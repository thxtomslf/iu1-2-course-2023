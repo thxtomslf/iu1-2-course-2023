{
 "cells": [
  {
   "attachments": {},
   "cell_type": "markdown",
   "metadata": {},
   "source": [
    "# Линейная регрессия "
   ]
  },
  {
   "attachments": {},
   "cell_type": "markdown",
   "metadata": {},
   "source": [
    "### Imports"
   ]
  },
  {
   "cell_type": "code",
   "execution_count": 3,
   "metadata": {},
   "outputs": [
    {
     "ename": "ModuleNotFoundError",
     "evalue": "No module named 'torch'",
     "output_type": "error",
     "traceback": [
      "\u001B[0;31m---------------------------------------------------------------------------\u001B[0m",
      "\u001B[0;31mModuleNotFoundError\u001B[0m                       Traceback (most recent call last)",
      "Cell \u001B[0;32mIn[3], line 3\u001B[0m\n\u001B[1;32m      1\u001B[0m \u001B[38;5;28;01mimport\u001B[39;00m \u001B[38;5;21;01mrandom\u001B[39;00m\n\u001B[1;32m      2\u001B[0m \u001B[38;5;28;01mimport\u001B[39;00m \u001B[38;5;21;01mnumpy\u001B[39;00m \u001B[38;5;28;01mas\u001B[39;00m \u001B[38;5;21;01mnp\u001B[39;00m\n\u001B[0;32m----> 3\u001B[0m \u001B[38;5;28;01mimport\u001B[39;00m \u001B[38;5;21;01mtorch\u001B[39;00m\n\u001B[1;32m      4\u001B[0m \u001B[38;5;28;01mfrom\u001B[39;00m \u001B[38;5;21;01mtorch\u001B[39;00m\u001B[38;5;21;01m.\u001B[39;00m\u001B[38;5;21;01mutils\u001B[39;00m \u001B[38;5;28;01mimport\u001B[39;00m data\n\u001B[1;32m      5\u001B[0m \u001B[38;5;28;01mfrom\u001B[39;00m \u001B[38;5;21;01mtorch\u001B[39;00m \u001B[38;5;28;01mimport\u001B[39;00m nn\n",
      "\u001B[0;31mModuleNotFoundError\u001B[0m: No module named 'torch'"
     ]
    }
   ],
   "source": [
    "import random\n",
    "import numpy as np\n",
    "import torch\n",
    "from torch.utils import data\n",
    "from torch import nn\n",
    "import matplotlib.pyplot as plt"
   ]
  },
  {
   "cell_type": "code",
   "execution_count": null,
   "metadata": {},
   "outputs": [],
   "source": [
    "SEED = 19\n",
    "random.seed(SEED)\n",
    "np.random.seed(SEED)\n",
    "torch.random.manual_seed(SEED)\n",
    "torch.cuda.random.manual_seed_all(SEED)"
   ]
  },
  {
   "attachments": {},
   "cell_type": "markdown",
   "metadata": {},
   "source": [
    "Сгенерируем свой \"игрушечный\" набор данных и решим задачу регрессии."
   ]
  },
  {
   "cell_type": "code",
   "execution_count": 6,
   "metadata": {},
   "outputs": [],
   "source": [
    "def synthetic_data(w, b, num_examples):\n",
    "  X = np.random.normal(0, 1, size=(num_examples, len(w)))\n",
    "  y = np.dot(X, w) + b\n",
    "  y += np.random.normal(0, 0.01, size=y.shape)\n",
    "  return X, y.reshape((-1,1))\n"
   ]
  },
  {
   "attachments": {},
   "cell_type": "markdown",
   "metadata": {},
   "source": [
    "Зададим фактические значения w и b, которые и будем находить с использованием различных ML методов. Зная фактические w и b, можем найти фактические значения y :)"
   ]
  },
  {
   "cell_type": "code",
   "execution_count": 7,
   "metadata": {},
   "outputs": [],
   "source": [
    "true_w = np.array([2, -3.4])\n",
    "true_b = 4.2\n",
    "X, y = synthetic_data(true_w, true_b, 1000)"
   ]
  },
  {
   "cell_type": "code",
   "execution_count": 11,
   "metadata": {},
   "outputs": [
    {
     "name": "stdout",
     "output_type": "stream",
     "text": [
      "[[-0.43495879  1.73868224]\n",
      " [ 0.51013289  0.5750999 ]\n",
      " [-0.35109271 -1.85693011]\n",
      " ...\n",
      " [ 0.93854147  0.4578441 ]\n",
      " [-1.34190035 -0.02834813]\n",
      " [ 1.955899    0.51552322]]\n"
     ]
    }
   ],
   "source": [
    "print(X)"
   ]
  },
  {
   "cell_type": "code",
   "execution_count": 9,
   "metadata": {},
   "outputs": [
    {
     "data": {
      "text/plain": "array([[-2.59194421],\n       [ 3.2626554 ],\n       [ 9.80785035],\n       [ 4.48163005],\n       [ 6.77862241],\n       [ 1.88154956]])"
     },
     "execution_count": 9,
     "metadata": {},
     "output_type": "execute_result"
    }
   ],
   "source": [
    "y[:6]"
   ]
  },
  {
   "cell_type": "code",
   "execution_count": null,
   "metadata": {},
   "outputs": [],
   "source": [
    "plt.scatter(X[:,0], y)"
   ]
  },
  {
   "cell_type": "code",
   "execution_count": null,
   "metadata": {},
   "outputs": [],
   "source": [
    "plt.scatter(X[:,1], y)"
   ]
  },
  {
   "attachments": {},
   "cell_type": "markdown",
   "metadata": {},
   "source": [
    "## Аналитическое решение "
   ]
  },
  {
   "attachments": {},
   "cell_type": "markdown",
   "metadata": {},
   "source": [
    "### $$  \\quad \\hat{y_i} = w_1x_{1i} + w_2x_{2i}+b $$\n",
    "### $$ W =(X^TX)^{-1} X^Ty $$\n",
    "### $$W - параметры, \\: X - обучающая \\: выборка, \\: y - таргет$$"
   ]
  },
  {
   "attachments": {},
   "cell_type": "markdown",
   "metadata": {},
   "source": [
    "Если хотим этой формулой найти еще и b, то надо добавидь нувую фичу, которая равна 1 для каждого объекта\n",
    "(X = np.concatenate((np.ones((len(X), 1)), X), axis=1))"
   ]
  },
  {
   "cell_type": "code",
   "execution_count": 12,
   "metadata": {},
   "outputs": [],
   "source": [
    "class MultipleLinearRegression: \n",
    "    def fit(self, X, y):\n",
    "        self.coeffs = np.linalg.inv(X.T.dot(X)).dot(X.T).dot(y)\n",
    "        \n",
    "    def predict(self, X):\n",
    "\n",
    "        result = X.dot(self.coeffs)\n",
    "        \n",
    "        # или\n",
    "        # result = np.zeros(len(X))\n",
    "        # for i in range(X.shape[1]):\n",
    "        #     result += X[:, i] * self.coeffs[i]\n",
    "\n",
    "        \n",
    "        return result\n",
    "    \n",
    "    def coeffs(self):\n",
    "        return self.coeffs"
   ]
  },
  {
   "cell_type": "code",
   "execution_count": 13,
   "metadata": {},
   "outputs": [],
   "source": [
    "mlp = MultipleLinearRegression()"
   ]
  },
  {
   "cell_type": "code",
   "execution_count": 14,
   "metadata": {},
   "outputs": [],
   "source": [
    "mlp.fit(X, y)"
   ]
  },
  {
   "cell_type": "code",
   "execution_count": 20,
   "metadata": {},
   "outputs": [
    {
     "name": "stdout",
     "output_type": "stream",
     "text": [
      "[[-0.43495879  1.73868224]\n",
      " [ 0.51013289  0.5750999 ]\n",
      " [-0.35109271 -1.85693011]\n",
      " ...\n",
      " [ 0.93854147  0.4578441 ]\n",
      " [-1.34190035 -0.02834813]\n",
      " [ 1.955899    0.51552322]]\n"
     ]
    }
   ],
   "source": [
    "y_pred = mlp.predict(X)\n",
    "print(X)"
   ]
  },
  {
   "cell_type": "code",
   "execution_count": 16,
   "metadata": {},
   "outputs": [
    {
     "data": {
      "text/plain": "array([[-6.94151955],\n       [-0.97167792],\n       [ 5.76196076],\n       [ 0.30868989],\n       [ 2.62208499],\n       [-2.401488  ]])"
     },
     "execution_count": 16,
     "metadata": {},
     "output_type": "execute_result"
    }
   ],
   "source": [
    "y_pred[:6]"
   ]
  },
  {
   "cell_type": "code",
   "execution_count": 17,
   "metadata": {},
   "outputs": [
    {
     "data": {
      "text/plain": "array([[ 2.02499381],\n       [-3.48581849]])"
     },
     "execution_count": 17,
     "metadata": {},
     "output_type": "execute_result"
    }
   ],
   "source": [
    "mlp.coeffs"
   ]
  },
  {
   "attachments": {},
   "cell_type": "markdown",
   "metadata": {},
   "source": [
    "## Градиентный спуск с нуля"
   ]
  },
  {
   "attachments": {},
   "cell_type": "markdown",
   "metadata": {},
   "source": [
    "### $$ MSE = \\frac{1}{n}\\sum_{i=1}^{n} (y_i - \\hat{y_i})^2 \\quad \\textrm{где} \\quad \\hat{y_i} = w_1x_{1i} + w_2x_{2i}+b $$\n",
    "### $$𝑓(w_1,w_2,𝑏)= \\frac{1}{n}\\sum_{i=1}^{n}(y_i - (w_1x_{1i} + w_2x_{2i}+b))^2$$\n",
    "### $$ [f(g(x))]' = f'(g(x)) * g(x)' \\: - \\textrm{chain rule}$$\n",
    "### $$\\frac{\\partial f}{\\partial w_1} = \\frac{1}{n}\\sum_{i=1}^{n}-2x_{1i}(y_i - (w_1x_{1i} + w_2x_{2i}+b))$$\n",
    "### $$\\frac{\\partial f}{\\partial b} = \\frac{1}{n}\\sum_{i=1}^{n}-2(y_i - (w_1x_{1i} + w_2x_{2i}+b))$$"
   ]
  },
  {
   "attachments": {},
   "cell_type": "markdown",
   "metadata": {},
   "source": [
    "### С использованием numpy"
   ]
  },
  {
   "cell_type": "code",
   "execution_count": null,
   "metadata": {},
   "outputs": [],
   "source": [
    "# Способ реализации бустинга\n",
    "def gradient_descent(X, y, lr=0.05, num_epoch=100):\n",
    "    w = np.random.normal(0, 0.01, (2,1))\n",
    "    b = np.random.normal(1)\n",
    "    N = len(X)\n",
    "    for _ in range(num_epoch):    \n",
    "        # Поманипулируйте с формулами и поймите как пепеходим к матричным операциям\n",
    "        f = y - (X.dot(w) + b)\n",
    "        w = w - (lr * (-2 * X *f ).sum(axis=0)).reshape(2,1) / N \n",
    "        b -= lr * (-2 * f.sum() / N)      \n",
    "    \n",
    "    return w, b"
   ]
  },
  {
   "cell_type": "code",
   "execution_count": null,
   "metadata": {},
   "outputs": [],
   "source": [
    "# Способ реализации бустинга в классе (так красиво и удобнее использовать)\n",
    "class MultipleLinearRegression:\n",
    "    def fit(self, X, y, lr=0.05, num_epoch=100):\n",
    "        self.w = np.random.normal(0, 0.01, (2,1))\n",
    "        self.b = np.random.normal(1)\n",
    "        N = len(X)\n",
    "        for _ in range(num_epoch):    \n",
    "            f = y - (X.dot(self.w) + self.b)\n",
    "            self.w = self.w - (lr * (-2 * X *f ).sum(axis=0)).reshape(2,1) / N\n",
    "            self.b = self.b - lr * (-2 * f.sum() / N)  \n",
    "            \n",
    "    def predict(self, X):\n",
    "        return X.dot(self.w) + self.b\n",
    "            \n",
    "    def coeffs(self):\n",
    "        return self.w, self.b"
   ]
  },
  {
   "cell_type": "code",
   "execution_count": null,
   "metadata": {},
   "outputs": [],
   "source": [
    "mlp = MultipleLinearRegression()"
   ]
  },
  {
   "cell_type": "code",
   "execution_count": null,
   "metadata": {},
   "outputs": [],
   "source": [
    "mlp.fit(X, y, lr=0.01, num_epoch=1000)"
   ]
  },
  {
   "cell_type": "code",
   "execution_count": null,
   "metadata": {},
   "outputs": [],
   "source": [
    "y_pred = mlp.predict(X)"
   ]
  },
  {
   "cell_type": "code",
   "execution_count": null,
   "metadata": {},
   "outputs": [],
   "source": [
    "mlp.coeffs()"
   ]
  },
  {
   "attachments": {},
   "cell_type": "markdown",
   "metadata": {},
   "source": [
    "## Стахостический градиентый спуск"
   ]
  },
  {
   "attachments": {},
   "cell_type": "markdown",
   "metadata": {},
   "source": [
    "### С использованием numpy"
   ]
  },
  {
   "cell_type": "code",
   "execution_count": 21,
   "metadata": {},
   "outputs": [],
   "source": [
    "def SGD(X, y, lr=0.05, num_epoch=10, batch_size=5):\n",
    "    w = np.random.normal(0, 0.01, (2,1))\n",
    "    b = np.random.normal(1)\n",
    "    \n",
    "    for _ in range(num_epoch):\n",
    "        indexes = np.random.randint(0, len(X), batch_size)\n",
    "        Xs = np.take(X, indexes, axis=0)\n",
    "        ys = np.take(y, indexes, axis=0)\n",
    "        Ns = batch_size\n",
    "    \n",
    "        f = ys - (Xs.dot(w) + b)\n",
    "        w = w - (lr * (-2 * Xs *f ).sum(axis=0)).reshape(2,1) / Ns \n",
    "        b -= lr * (-2 * f.sum() / Ns)           \n",
    "    \n",
    "    return w, b"
   ]
  },
  {
   "cell_type": "code",
   "execution_count": null,
   "metadata": {},
   "outputs": [],
   "source": [
    "# В классе попробуйте реализовать самостоятельно \n",
    "class MultipleLinearRegression:\n",
    "    def fit():\n",
    "        # твой код здесь\n",
    "        pass\n",
    "        \n",
    "    def predict():\n",
    "        # твой код здесь\n",
    "        pass\n",
    "            \n",
    "    def coeffs():\n",
    "        # твой код здесь\n",
    "        pass"
   ]
  },
  {
   "attachments": {},
   "cell_type": "markdown",
   "metadata": {},
   "source": [
    "### С использованием  Pytorch autograd"
   ]
  },
  {
   "cell_type": "code",
   "execution_count": null,
   "metadata": {
    "executionInfo": {
     "elapsed": 311,
     "status": "ok",
     "timestamp": 1653136837284,
     "user": {
      "displayName": "Владлен Севернов",
      "userId": "02364342349832711946"
     },
     "user_tz": -180
    },
    "id": "9PsAWWpGm6h1"
   },
   "outputs": [],
   "source": [
    "def synthetic_data(w, b, num_examples):\n",
    "  X = torch.normal(0, 1, (num_examples, len(w)))\n",
    "  y = torch.matmul(X, w) + b\n",
    "  y += torch.normal(0, 0.01, y.shape)\n",
    "  return X, y.reshape((-1,1))"
   ]
  },
  {
   "cell_type": "code",
   "execution_count": null,
   "metadata": {
    "executionInfo": {
     "elapsed": 295,
     "status": "ok",
     "timestamp": 1653136859612,
     "user": {
      "displayName": "Владлен Севернов",
      "userId": "02364342349832711946"
     },
     "user_tz": -180
    },
    "id": "XX62UaWIoHOr"
   },
   "outputs": [],
   "source": [
    "true_w = torch.tensor([2, -3.4])\n",
    "true_b = 4.2\n",
    "X, y = synthetic_data(true_w, true_b, 1000)"
   ]
  },
  {
   "cell_type": "code",
   "execution_count": null,
   "metadata": {},
   "outputs": [],
   "source": [
    "X"
   ]
  },
  {
   "cell_type": "code",
   "execution_count": null,
   "metadata": {},
   "outputs": [],
   "source": [
    "y[:5]"
   ]
  },
  {
   "cell_type": "code",
   "execution_count": null,
   "metadata": {
    "colab": {
     "base_uri": "https://localhost:8080/",
     "height": 284
    },
    "executionInfo": {
     "elapsed": 619,
     "status": "ok",
     "timestamp": 1653137208182,
     "user": {
      "displayName": "Владлен Севернов",
      "userId": "02364342349832711946"
     },
     "user_tz": -180
    },
    "id": "YTh9wj3UorF7",
    "outputId": "c6edaf29-5a38-4930-c3ee-18180805047a"
   },
   "outputs": [],
   "source": [
    "plt.scatter(X[:,1].numpy(), y.numpy())"
   ]
  },
  {
   "cell_type": "code",
   "execution_count": null,
   "metadata": {
    "executionInfo": {
     "elapsed": 316,
     "status": "ok",
     "timestamp": 1653138559339,
     "user": {
      "displayName": "Владлен Севернов",
      "userId": "02364342349832711946"
     },
     "user_tz": -180
    },
    "id": "iMN9tg7Rpqc2"
   },
   "outputs": [],
   "source": [
    "def data_iter(batch_size, features, labels):\n",
    "  num_examples = len(features)\n",
    "  indices = list(range(num_examples))\n",
    "  random.shuffle(indices)\n",
    "  for i in range(0, num_examples, batch_size):\n",
    "      batch_indices = torch.tensor(\n",
    "          indices[i: min(i + batch_size, num_examples)])\n",
    "      yield features[batch_indices], labels[batch_indices]\n"
   ]
  },
  {
   "cell_type": "code",
   "execution_count": null,
   "metadata": {
    "executionInfo": {
     "elapsed": 9,
     "status": "ok",
     "timestamp": 1653138890604,
     "user": {
      "displayName": "Владлен Севернов",
      "userId": "02364342349832711946"
     },
     "user_tz": -180
    },
    "id": "ct9_wHHlvAev"
   },
   "outputs": [],
   "source": [
    "w = torch.normal(0, 0.01, (2,1), requires_grad=True)\n",
    "b = torch.zeros(1, requires_grad=True)"
   ]
  },
  {
   "cell_type": "code",
   "execution_count": null,
   "metadata": {
    "executionInfo": {
     "elapsed": 313,
     "status": "ok",
     "timestamp": 1653139268967,
     "user": {
      "displayName": "Владлен Севернов",
      "userId": "02364342349832711946"
     },
     "user_tz": -180
    },
    "id": "PYAa5FgywOMI"
   },
   "outputs": [],
   "source": [
    "def linreg(X, w, b):\n",
    "  return torch.matmul(X, w) + b"
   ]
  },
  {
   "cell_type": "code",
   "execution_count": null,
   "metadata": {
    "executionInfo": {
     "elapsed": 315,
     "status": "ok",
     "timestamp": 1653139615695,
     "user": {
      "displayName": "Владлен Севернов",
      "userId": "02364342349832711946"
     },
     "user_tz": -180
    },
    "id": "sOwL5OpCx2Fa"
   },
   "outputs": [],
   "source": [
    "def squared_loss(y_hat, y):\n",
    "  return (y_hat - y.reshape(y_hat.shape))**2/2"
   ]
  },
  {
   "cell_type": "code",
   "execution_count": null,
   "metadata": {
    "executionInfo": {
     "elapsed": 317,
     "status": "ok",
     "timestamp": 1653141032906,
     "user": {
      "displayName": "Владлен Севернов",
      "userId": "02364342349832711946"
     },
     "user_tz": -180
    },
    "id": "4Gjfpd3izKtd"
   },
   "outputs": [],
   "source": [
    "def sgd(params, lr, batch_size):\n",
    "  with torch.no_grad():\n",
    "    for param in params:\n",
    "      param -= lr * param.grad / batch_size\n",
    "      param.grad.zero_()"
   ]
  },
  {
   "cell_type": "code",
   "execution_count": null,
   "metadata": {
    "executionInfo": {
     "elapsed": 3,
     "status": "ok",
     "timestamp": 1653141412396,
     "user": {
      "displayName": "Владлен Севернов",
      "userId": "02364342349832711946"
     },
     "user_tz": -180
    },
    "id": "cRsMb6ax0n5Q"
   },
   "outputs": [],
   "source": [
    "lr = 0.005\n",
    "num_epochs = 100\n",
    "net = linreg\n",
    "loss = squared_loss\n",
    "optimizer = sgd \n",
    "batch_size = 10"
   ]
  },
  {
   "cell_type": "code",
   "execution_count": null,
   "metadata": {},
   "outputs": [],
   "source": [
    "batch_size"
   ]
  },
  {
   "cell_type": "code",
   "execution_count": null,
   "metadata": {
    "colab": {
     "base_uri": "https://localhost:8080/"
    },
    "executionInfo": {
     "elapsed": 8,
     "status": "ok",
     "timestamp": 1653141412908,
     "user": {
      "displayName": "Владлен Севернов",
      "userId": "02364342349832711946"
     },
     "user_tz": -180
    },
    "id": "RgQMuTw63k2r",
    "outputId": "2b041e06-b5fb-4cc7-d5d7-77dd9e00b0bb"
   },
   "outputs": [],
   "source": [
    "for epoch in range(num_epochs):\n",
    "  for X_train, y_ytain in data_iter(batch_size, X, y):\n",
    "    l = loss(net(X_train, w, b), y_ytain)\n",
    "    l.sum().backward()\n",
    "    optimizer([w, b], lr, batch_size)\n",
    "\n",
    "  with torch.no_grad():\n",
    "    train_l = loss(net(X_train, w, b), y_ytain)\n",
    "    print(f'epoch {epoch + 1}, loss {float(train_l.mean()):f}')"
   ]
  },
  {
   "cell_type": "code",
   "execution_count": null,
   "metadata": {},
   "outputs": [],
   "source": [
    "w"
   ]
  },
  {
   "cell_type": "code",
   "execution_count": null,
   "metadata": {},
   "outputs": [],
   "source": [
    "b"
   ]
  },
  {
   "attachments": {},
   "cell_type": "markdown",
   "metadata": {
    "id": "d2inr1e47zky"
   },
   "source": [
    "### С использованием Pytorch API"
   ]
  },
  {
   "cell_type": "code",
   "execution_count": null,
   "metadata": {
    "executionInfo": {
     "elapsed": 291,
     "status": "ok",
     "timestamp": 1653141907371,
     "user": {
      "displayName": "Владлен Севернов",
      "userId": "02364342349832711946"
     },
     "user_tz": -180
    },
    "id": "nyA5sbAY7xjN"
   },
   "outputs": [],
   "source": [
    "true_w = torch.tensor([2, -3.4])\n",
    "true_b = 4.2\n",
    "features, labels = synthetic_data(true_w, true_b, 1000)"
   ]
  },
  {
   "cell_type": "code",
   "execution_count": null,
   "metadata": {
    "executionInfo": {
     "elapsed": 403,
     "status": "ok",
     "timestamp": 1653142275514,
     "user": {
      "displayName": "Владлен Севернов",
      "userId": "02364342349832711946"
     },
     "user_tz": -180
    },
    "id": "Vw2WN6-v8UJv"
   },
   "outputs": [],
   "source": [
    "def load_array(data_arrays, batch_size, is_train=True):\n",
    "  dataset = data.TensorDataset(*data_arrays)\n",
    "  return data.DataLoader(dataset, batch_size=batch_size, shuffle=is_train)"
   ]
  },
  {
   "cell_type": "code",
   "execution_count": null,
   "metadata": {
    "executionInfo": {
     "elapsed": 313,
     "status": "ok",
     "timestamp": 1653142300816,
     "user": {
      "displayName": "Владлен Севернов",
      "userId": "02364342349832711946"
     },
     "user_tz": -180
    },
    "id": "cBgqcSet9UDI"
   },
   "outputs": [],
   "source": [
    "batch_size = 10\n",
    "data_iter = load_array((features, labels), batch_size)"
   ]
  },
  {
   "cell_type": "code",
   "execution_count": null,
   "metadata": {
    "executionInfo": {
     "elapsed": 308,
     "status": "ok",
     "timestamp": 1653143434885,
     "user": {
      "displayName": "Владлен Севернов",
      "userId": "02364342349832711946"
     },
     "user_tz": -180
    },
    "id": "TsaZa78X9cMh"
   },
   "outputs": [],
   "source": [
    "net = nn.Sequential(nn.Linear(2,1))"
   ]
  },
  {
   "cell_type": "code",
   "execution_count": null,
   "metadata": {
    "id": "OH6GCHRuALoo"
   },
   "outputs": [],
   "source": [
    "net[0].weight.data.normal_(0, 0.01)\n",
    "net[0].bias.data.fill_(0)"
   ]
  },
  {
   "cell_type": "code",
   "execution_count": null,
   "metadata": {
    "executionInfo": {
     "elapsed": 7,
     "status": "ok",
     "timestamp": 1653143555619,
     "user": {
      "displayName": "Владлен Севернов",
      "userId": "02364342349832711946"
     },
     "user_tz": -180
    },
    "id": "n0w5K_9VA80w"
   },
   "outputs": [],
   "source": [
    "loss = nn.MSELoss()\n",
    "trainer = torch.optim.SGD(net.parameters(), lr=0.03)"
   ]
  },
  {
   "cell_type": "code",
   "execution_count": null,
   "metadata": {
    "colab": {
     "base_uri": "https://localhost:8080/"
    },
    "executionInfo": {
     "elapsed": 421,
     "status": "ok",
     "timestamp": 1653144499339,
     "user": {
      "displayName": "Владлен Севернов",
      "userId": "02364342349832711946"
     },
     "user_tz": -180
    },
    "id": "gbr034WaCImt",
    "outputId": "3c3c2ad6-3aad-4a1f-aff4-1f47477c5618"
   },
   "outputs": [],
   "source": [
    "num_epoch = 3\n",
    "for epoch in range(num_epochs):\n",
    "  for X, y in data_iter:\n",
    "    y_pred = net(X)\n",
    "    l = loss(y_pred, y)\n",
    "    l.backward()\n",
    "    trainer.step()\n",
    "    trainer.zero_grad()\n",
    "\n",
    "  l = loss(net(features), labels)\n",
    "  print(f'epoch {epoch + 1}, loss {l:f}')"
   ]
  },
  {
   "cell_type": "code",
   "execution_count": null,
   "metadata": {},
   "outputs": [],
   "source": [
    "w"
   ]
  },
  {
   "cell_type": "code",
   "execution_count": null,
   "metadata": {},
   "outputs": [],
   "source": [
    "b"
   ]
  }
 ],
 "metadata": {
  "colab": {
   "authorship_tag": "ABX9TyOLysyT2xhlSxSjuEpdzbQ9",
   "name": "liner_reg_pytorch.ipynb",
   "provenance": []
  },
  "kernelspec": {
   "display_name": "Python 3.9.12 ('base')",
   "language": "python",
   "name": "python3"
  },
  "language_info": {
   "codemirror_mode": {
    "name": "ipython",
    "version": 3
   },
   "file_extension": ".py",
   "mimetype": "text/x-python",
   "name": "python",
   "nbconvert_exporter": "python",
   "pygments_lexer": "ipython3",
   "version": "3.9.12"
  },
  "vscode": {
   "interpreter": {
    "hash": "40d3a090f54c6569ab1632332b64b2c03c39dcf918b08424e98f38b5ae0af88f"
   }
  }
 },
 "nbformat": 4,
 "nbformat_minor": 0
}
